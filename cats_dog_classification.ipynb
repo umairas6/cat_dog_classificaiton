{
 "cells": [
  {
   "cell_type": "code",
   "execution_count": 1,
   "metadata": {
    "colab": {
     "base_uri": "https://localhost:8080/",
     "height": 121
    },
    "colab_type": "code",
    "id": "w-GLz6V3w-4T",
    "outputId": "e4ab48d2-38f4-4274-a9f0-926e6678d5da"
   },
   "outputs": [
    {
     "name": "stdout",
     "output_type": "stream",
     "text": [
      "Go to this URL in a browser: https://accounts.google.com/o/oauth2/auth?client_id=947318989803-6bn6qk8qdgf4n4g3pfee6491hc0brc4i.apps.googleusercontent.com&redirect_uri=urn%3aietf%3awg%3aoauth%3a2.0%3aoob&response_type=code&scope=email%20https%3a%2f%2fwww.googleapis.com%2fauth%2fdocs.test%20https%3a%2f%2fwww.googleapis.com%2fauth%2fdrive%20https%3a%2f%2fwww.googleapis.com%2fauth%2fdrive.photos.readonly%20https%3a%2f%2fwww.googleapis.com%2fauth%2fpeopleapi.readonly\n",
      "\n",
      "Enter your authorization code:\n",
      "··········\n",
      "Mounted at /content/drive\n"
     ]
    }
   ],
   "source": [
    "from google.colab import drive\n",
    "drive.mount('/content/drive')"
   ]
  },
  {
   "cell_type": "code",
   "execution_count": 3,
   "metadata": {
    "colab": {
     "base_uri": "https://localhost:8080/",
     "height": 34
    },
    "colab_type": "code",
    "id": "jjSysIyDxFOS",
    "outputId": "2a2da567-b5fc-4b45-ab4f-7358c9b945e0"
   },
   "outputs": [
    {
     "name": "stdout",
     "output_type": "stream",
     "text": [
      "Done\n"
     ]
    }
   ],
   "source": [
    "from zipfile import ZipFile\n",
    "file_name = \"project_deep_learning.zip\"\n",
    "\n",
    "\n",
    "with ZipFile(file_name,'r') as zip:\n",
    "  zip.extractall()\n",
    "  print(\"Done\")"
   ]
  },
  {
   "cell_type": "code",
   "execution_count": 0,
   "metadata": {
    "colab": {},
    "colab_type": "code",
    "id": "YMHRIc-pxQfx"
   },
   "outputs": [],
   "source": [
    "import tensorflow as tf\n",
    "import pandas as pd\n",
    "import numpy as np\n",
    "import matplotlib.pyplot as plt\n",
    "import os\n",
    "from PIL import Image\n",
    "%matplotlib inline"
   ]
  },
  {
   "cell_type": "code",
   "execution_count": 0,
   "metadata": {
    "colab": {},
    "colab_type": "code",
    "id": "bEInzHYixaNO"
   },
   "outputs": [],
   "source": [
    "base_dir = 'data/'\n",
    "train_dir = os.path.join(base_dir, 'train')\n",
    "validation_dir = os.path.join(base_dir, 'test')\n",
    "\n",
    "# Directory with our training cat pictures\n",
    "train_cats_dir = os.path.join(train_dir, 'cats')\n",
    "\n",
    "# Directory with our training dog pictures\n",
    "train_dogs_dir = os.path.join(train_dir, 'dogs')\n",
    "\n",
    "# Directory with our validation cat pictures\n",
    "validation_cats_dir = os.path.join(validation_dir, 'cats')\n",
    "\n",
    "# Directory with our validation dog pictures\n",
    "validation_dogs_dir = os.path.join(validation_dir, 'dogs')\n",
    "\n",
    "train_cat_fnames = os.listdir(train_cats_dir)\n",
    "train_dog_fnames = os.listdir(train_dogs_dir)\n"
   ]
  },
  {
   "cell_type": "code",
   "execution_count": 16,
   "metadata": {
    "colab": {
     "base_uri": "https://localhost:8080/",
     "height": 34
    },
    "colab_type": "code",
    "id": "O_Y4tYKLCb-3",
    "outputId": "8c146dfc-d838-49bd-b988-23246514b071"
   },
   "outputs": [
    {
     "data": {
      "text/plain": [
       "2"
      ]
     },
     "execution_count": 16,
     "metadata": {
      "tags": []
     },
     "output_type": "execute_result"
    }
   ],
   "source": [
    "classes = [\"cats\",\"dogs\"]\n",
    "len(classes)"
   ]
  },
  {
   "cell_type": "code",
   "execution_count": 0,
   "metadata": {
    "colab": {},
    "colab_type": "code",
    "id": "TrEFZagUxdUk"
   },
   "outputs": [],
   "source": [
    "from tensorflow.keras import layers\n",
    "from tensorflow.keras import Model"
   ]
  },
  {
   "cell_type": "code",
   "execution_count": 0,
   "metadata": {
    "colab": {},
    "colab_type": "code",
    "id": "2m0ehnMJxriW"
   },
   "outputs": [],
   "source": [
    "from tensorflow.keras import layers\n",
    "from tensorflow.keras import Model\n",
    "from tensorflow.keras.optimizers import RMSprop\n",
    "\n",
    "# Our input feature map is 150x150x3: 150x150 for the image pixels, and 3 for\n",
    "# the three color channels: R, G, and B\n",
    "img_input = layers.Input(shape=(150, 150, 3))\n",
    "\n",
    "# First convolution extracts 32 filters that are 5x5\n",
    "# Convolution is followed by max-pooling layer with a 2x2 window\n",
    "x = layers.Conv2D(32, 5, activation='relu')(img_input)\n",
    "x = layers.MaxPooling2D(2)(x)\n",
    "\n",
    "# Second convolution extracts 64 filters that are 5x5\n",
    "# Convolution is followed by max-pooling layer with a 2x2 window\n",
    "x = layers.Conv2D(64, 5, activation='relu')(x)\n",
    "x = layers.MaxPooling2D(2)(x)\n",
    "\n",
    "#flatten\n",
    "x = layers.Flatten()(x)\n",
    "x = layers.Dense(32,activation='relu')(x)\n",
    "#x = layers.MaxPooling2D(2)(x)\n",
    "\n",
    "# Flatten feature map to a 1-dim \n",
    "#x = layers.Flatten()(x)\n",
    "\n",
    "# Add a dropout rate of 0.4\n",
    "x = layers.Dropout(0.4)(x)\n",
    "\n",
    "# Create output layer with  softmax activation\n",
    "output = layers.Dense(len(classes), activation='softmax')(x)\n",
    "\n",
    "# Configure and compile the model\n",
    "model = Model(img_input, output)\n",
    "model.compile(loss='binary_crossentropy',\n",
    "              optimizer=RMSprop(lr=0.001),\n",
    "              metrics=['acc'])"
   ]
  },
  {
   "cell_type": "code",
   "execution_count": 37,
   "metadata": {
    "colab": {
     "base_uri": "https://localhost:8080/",
     "height": 454
    },
    "colab_type": "code",
    "id": "Ypk3_i5Kx8xn",
    "outputId": "fdc1b9f1-a49c-47b8-bcbf-1c2768c46ad9"
   },
   "outputs": [
    {
     "name": "stdout",
     "output_type": "stream",
     "text": [
      "Model: \"model_5\"\n",
      "_________________________________________________________________\n",
      "Layer (type)                 Output Shape              Param #   \n",
      "=================================================================\n",
      "input_8 (InputLayer)         [(None, 150, 150, 3)]     0         \n",
      "_________________________________________________________________\n",
      "conv2d_17 (Conv2D)           (None, 146, 146, 32)      2432      \n",
      "_________________________________________________________________\n",
      "max_pooling2d_14 (MaxPooling (None, 73, 73, 32)        0         \n",
      "_________________________________________________________________\n",
      "conv2d_18 (Conv2D)           (None, 69, 69, 64)        51264     \n",
      "_________________________________________________________________\n",
      "max_pooling2d_15 (MaxPooling (None, 34, 34, 64)        0         \n",
      "_________________________________________________________________\n",
      "flatten_6 (Flatten)          (None, 73984)             0         \n",
      "_________________________________________________________________\n",
      "dense_4 (Dense)              (None, 32)                2367520   \n",
      "_________________________________________________________________\n",
      "dropout_4 (Dropout)          (None, 32)                0         \n",
      "_________________________________________________________________\n",
      "dense_5 (Dense)              (None, 2)                 66        \n",
      "=================================================================\n",
      "Total params: 2,421,282\n",
      "Trainable params: 2,421,282\n",
      "Non-trainable params: 0\n",
      "_________________________________________________________________\n"
     ]
    }
   ],
   "source": [
    "model.summary()"
   ]
  },
  {
   "cell_type": "code",
   "execution_count": 38,
   "metadata": {
    "colab": {
     "base_uri": "https://localhost:8080/",
     "height": 50
    },
    "colab_type": "code",
    "id": "XAdzSRuvx43x",
    "outputId": "587a4873-8653-4829-b53e-85dd7f4c64c1"
   },
   "outputs": [
    {
     "name": "stdout",
     "output_type": "stream",
     "text": [
      "Found 40 images belonging to 2 classes.\n",
      "Found 20 images belonging to 2 classes.\n"
     ]
    }
   ],
   "source": [
    "from tensorflow.keras.preprocessing.image import ImageDataGenerator\n",
    "\n",
    "# All images will be rescaled by 1./255\n",
    "train_datagen = ImageDataGenerator(rescale=1./255)\n",
    "val_datagen = ImageDataGenerator(rescale=1./255)\n",
    "\n",
    "# Flow training images in batches of 20 using train_datagen generator\n",
    "train_generator = train_datagen.flow_from_directory(\n",
    "        train_dir,  # This is the source directory for training images\n",
    "        target_size=(150, 150),  # All images will be resized to 150x150\n",
    "        batch_size=20,\n",
    "        # Since we use binary_crossentropy loss, we need binary labels\n",
    "        class_mode='binary')\n",
    "\n",
    "# Flow validation images in batches of 20 using val_datagen generator\n",
    "validation_generator = val_datagen.flow_from_directory(\n",
    "        validation_dir,\n",
    "        target_size=(150, 150),\n",
    "        batch_size= 10,\n",
    "        class_mode='binary')"
   ]
  },
  {
   "cell_type": "code",
   "execution_count": 39,
   "metadata": {
    "colab": {
     "base_uri": "https://localhost:8080/",
     "height": 1000
    },
    "colab_type": "code",
    "id": "QZ4Ii3BxyFqA",
    "outputId": "e38f4340-62b2-40b2-d053-af608e9b7a4c"
   },
   "outputs": [
    {
     "name": "stdout",
     "output_type": "stream",
     "text": [
      "Epoch 1/100\n",
      "4/4 - 4s - loss: 5.9313 - acc: 0.4875 - val_loss: 7.6685 - val_acc: 0.5000\n",
      "Epoch 2/100\n",
      "4/4 - 4s - loss: 7.6685 - acc: 0.5000 - val_loss: 7.6729 - val_acc: 0.4500\n",
      "Epoch 3/100\n",
      "4/4 - 4s - loss: 7.6685 - acc: 0.5000 - val_loss: 7.6685 - val_acc: 0.5000\n",
      "Epoch 4/100\n",
      "4/4 - 4s - loss: 5.0790 - acc: 0.4625 - val_loss: 0.6937 - val_acc: 0.4500\n",
      "Epoch 5/100\n",
      "4/4 - 4s - loss: 0.6935 - acc: 0.4625 - val_loss: 0.6931 - val_acc: 0.5000\n",
      "Epoch 6/100\n",
      "4/4 - 4s - loss: 0.6931 - acc: 0.5000 - val_loss: 0.6931 - val_acc: 0.5500\n",
      "Epoch 7/100\n",
      "4/4 - 4s - loss: 0.6931 - acc: 0.5000 - val_loss: 0.6931 - val_acc: 0.5000\n",
      "Epoch 8/100\n",
      "4/4 - 4s - loss: 0.6931 - acc: 0.5000 - val_loss: 0.6931 - val_acc: 0.5500\n",
      "Epoch 9/100\n",
      "4/4 - 4s - loss: 0.6931 - acc: 0.5000 - val_loss: 0.6931 - val_acc: 0.5000\n",
      "Epoch 10/100\n",
      "4/4 - 4s - loss: 0.6931 - acc: 0.5000 - val_loss: 0.6931 - val_acc: 0.5000\n",
      "Epoch 11/100\n",
      "4/4 - 4s - loss: 0.6931 - acc: 0.5000 - val_loss: 0.6931 - val_acc: 0.5000\n",
      "Epoch 12/100\n",
      "4/4 - 4s - loss: 0.6931 - acc: 0.5000 - val_loss: 0.6931 - val_acc: 0.3500\n",
      "Epoch 13/100\n",
      "4/4 - 4s - loss: 0.6931 - acc: 0.5000 - val_loss: 0.6931 - val_acc: 0.5000\n",
      "Epoch 14/100\n",
      "4/4 - 4s - loss: 0.6931 - acc: 0.5000 - val_loss: 0.6931 - val_acc: 0.6000\n",
      "Epoch 15/100\n",
      "4/4 - 4s - loss: 0.6931 - acc: 0.5000 - val_loss: 0.6931 - val_acc: 0.5000\n",
      "Epoch 16/100\n",
      "4/4 - 4s - loss: 0.6931 - acc: 0.5000 - val_loss: 0.6931 - val_acc: 0.5000\n",
      "Epoch 17/100\n",
      "4/4 - 4s - loss: 0.6931 - acc: 0.5000 - val_loss: 0.6931 - val_acc: 0.5000\n",
      "Epoch 18/100\n",
      "4/4 - 4s - loss: 0.6931 - acc: 0.5000 - val_loss: 0.6931 - val_acc: 0.4500\n",
      "Epoch 19/100\n",
      "4/4 - 4s - loss: 0.6931 - acc: 0.5000 - val_loss: 0.6931 - val_acc: 0.5000\n",
      "Epoch 20/100\n",
      "4/4 - 4s - loss: 0.6931 - acc: 0.5000 - val_loss: 0.6931 - val_acc: 0.4500\n",
      "Epoch 21/100\n",
      "4/4 - 4s - loss: 0.6931 - acc: 0.5000 - val_loss: 0.6931 - val_acc: 0.5000\n",
      "Epoch 22/100\n",
      "4/4 - 4s - loss: 0.6931 - acc: 0.5000 - val_loss: 0.6931 - val_acc: 0.6500\n",
      "Epoch 23/100\n",
      "4/4 - 4s - loss: 0.6931 - acc: 0.5000 - val_loss: 0.6931 - val_acc: 0.5000\n",
      "Epoch 24/100\n",
      "4/4 - 4s - loss: 0.6931 - acc: 0.5000 - val_loss: 0.6931 - val_acc: 0.4000\n",
      "Epoch 25/100\n",
      "4/4 - 4s - loss: 0.6931 - acc: 0.5000 - val_loss: 0.6931 - val_acc: 0.5000\n",
      "Epoch 26/100\n",
      "4/4 - 4s - loss: 0.6931 - acc: 0.5000 - val_loss: 0.6931 - val_acc: 0.4500\n",
      "Epoch 27/100\n",
      "4/4 - 4s - loss: 0.6931 - acc: 0.5000 - val_loss: 0.6931 - val_acc: 0.5000\n",
      "Epoch 28/100\n",
      "4/4 - 4s - loss: 0.6931 - acc: 0.5000 - val_loss: 0.6931 - val_acc: 0.5500\n",
      "Epoch 29/100\n",
      "4/4 - 4s - loss: 0.6931 - acc: 0.5000 - val_loss: 0.6931 - val_acc: 0.5000\n",
      "Epoch 30/100\n",
      "4/4 - 4s - loss: 0.6931 - acc: 0.5000 - val_loss: 0.6931 - val_acc: 0.4000\n",
      "Epoch 31/100\n",
      "4/4 - 4s - loss: 0.6931 - acc: 0.5000 - val_loss: 0.6931 - val_acc: 0.5000\n",
      "Epoch 32/100\n",
      "4/4 - 4s - loss: 0.6931 - acc: 0.5000 - val_loss: 0.6931 - val_acc: 0.5500\n",
      "Epoch 33/100\n",
      "4/4 - 4s - loss: 0.6931 - acc: 0.5000 - val_loss: 0.6931 - val_acc: 0.5000\n",
      "Epoch 34/100\n",
      "4/4 - 4s - loss: 0.6931 - acc: 0.5000 - val_loss: 0.6931 - val_acc: 0.5500\n",
      "Epoch 35/100\n",
      "4/4 - 4s - loss: 0.6931 - acc: 0.5000 - val_loss: 0.6931 - val_acc: 0.5000\n",
      "Epoch 36/100\n",
      "4/4 - 4s - loss: 0.6931 - acc: 0.5000 - val_loss: 0.6931 - val_acc: 0.5000\n",
      "Epoch 37/100\n",
      "4/4 - 4s - loss: 0.6931 - acc: 0.5000 - val_loss: 0.6931 - val_acc: 0.5000\n",
      "Epoch 38/100\n",
      "4/4 - 4s - loss: 0.6931 - acc: 0.5000 - val_loss: 0.6931 - val_acc: 0.4000\n",
      "Epoch 39/100\n",
      "4/4 - 4s - loss: 0.6931 - acc: 0.5000 - val_loss: 0.6931 - val_acc: 0.5000\n",
      "Epoch 40/100\n",
      "4/4 - 4s - loss: 0.6931 - acc: 0.5000 - val_loss: 0.6931 - val_acc: 0.5000\n",
      "Epoch 41/100\n",
      "4/4 - 4s - loss: 0.6931 - acc: 0.5000 - val_loss: 0.6931 - val_acc: 0.5000\n",
      "Epoch 42/100\n",
      "4/4 - 4s - loss: 0.6931 - acc: 0.5000 - val_loss: 0.6931 - val_acc: 0.6000\n",
      "Epoch 43/100\n",
      "4/4 - 4s - loss: 0.6931 - acc: 0.5000 - val_loss: 0.6931 - val_acc: 0.5000\n",
      "Epoch 44/100\n",
      "4/4 - 4s - loss: 0.6931 - acc: 0.5000 - val_loss: 0.6931 - val_acc: 0.5500\n",
      "Epoch 45/100\n",
      "4/4 - 4s - loss: 0.6931 - acc: 0.5000 - val_loss: 0.6931 - val_acc: 0.5000\n",
      "Epoch 46/100\n",
      "4/4 - 4s - loss: 0.6931 - acc: 0.5000 - val_loss: 0.6931 - val_acc: 0.4500\n",
      "Epoch 47/100\n",
      "4/4 - 4s - loss: 0.6931 - acc: 0.5000 - val_loss: 0.6931 - val_acc: 0.5000\n",
      "Epoch 48/100\n",
      "4/4 - 4s - loss: 0.6931 - acc: 0.5000 - val_loss: 0.6931 - val_acc: 0.4500\n",
      "Epoch 49/100\n",
      "4/4 - 4s - loss: 0.6931 - acc: 0.5000 - val_loss: 0.6931 - val_acc: 0.5000\n",
      "Epoch 50/100\n",
      "4/4 - 4s - loss: 0.6931 - acc: 0.5000 - val_loss: 0.6931 - val_acc: 0.5000\n",
      "Epoch 51/100\n",
      "4/4 - 4s - loss: 0.6931 - acc: 0.5000 - val_loss: 0.6931 - val_acc: 0.5000\n",
      "Epoch 52/100\n",
      "4/4 - 4s - loss: 0.6931 - acc: 0.5000 - val_loss: 0.6931 - val_acc: 0.4000\n",
      "Epoch 53/100\n",
      "4/4 - 4s - loss: 0.6931 - acc: 0.5000 - val_loss: 0.6931 - val_acc: 0.5000\n",
      "Epoch 54/100\n",
      "4/4 - 4s - loss: 0.6931 - acc: 0.5000 - val_loss: 0.6931 - val_acc: 0.6500\n",
      "Epoch 55/100\n",
      "4/4 - 4s - loss: 0.6931 - acc: 0.5000 - val_loss: 0.6931 - val_acc: 0.5000\n",
      "Epoch 56/100\n",
      "4/4 - 4s - loss: 0.6931 - acc: 0.5000 - val_loss: 0.6931 - val_acc: 0.5000\n",
      "Epoch 57/100\n",
      "4/4 - 4s - loss: 0.6931 - acc: 0.5000 - val_loss: 0.6931 - val_acc: 0.5000\n",
      "Epoch 58/100\n",
      "4/4 - 4s - loss: 0.6931 - acc: 0.5000 - val_loss: 0.6931 - val_acc: 0.4500\n",
      "Epoch 59/100\n",
      "4/4 - 4s - loss: 0.6931 - acc: 0.5000 - val_loss: 0.6931 - val_acc: 0.5000\n",
      "Epoch 60/100\n",
      "4/4 - 4s - loss: 0.6931 - acc: 0.5000 - val_loss: 0.6931 - val_acc: 0.3500\n",
      "Epoch 61/100\n",
      "4/4 - 4s - loss: 0.6931 - acc: 0.5000 - val_loss: 0.6931 - val_acc: 0.5000\n",
      "Epoch 62/100\n",
      "4/4 - 4s - loss: 0.6931 - acc: 0.5000 - val_loss: 0.6931 - val_acc: 0.6000\n",
      "Epoch 63/100\n",
      "4/4 - 4s - loss: 0.6931 - acc: 0.5000 - val_loss: 0.6931 - val_acc: 0.5000\n",
      "Epoch 64/100\n",
      "4/4 - 4s - loss: 0.6931 - acc: 0.5000 - val_loss: 0.6931 - val_acc: 0.5500\n",
      "Epoch 65/100\n",
      "4/4 - 4s - loss: 0.6931 - acc: 0.5000 - val_loss: 0.6931 - val_acc: 0.5000\n",
      "Epoch 66/100\n",
      "4/4 - 4s - loss: 0.6931 - acc: 0.5000 - val_loss: 0.6931 - val_acc: 0.4500\n",
      "Epoch 67/100\n",
      "4/4 - 4s - loss: 0.6931 - acc: 0.5000 - val_loss: 0.6931 - val_acc: 0.5000\n",
      "Epoch 68/100\n",
      "4/4 - 4s - loss: 0.6931 - acc: 0.5000 - val_loss: 0.6931 - val_acc: 0.6000\n",
      "Epoch 69/100\n",
      "4/4 - 4s - loss: 0.6931 - acc: 0.5000 - val_loss: 0.6931 - val_acc: 0.5000\n",
      "Epoch 70/100\n",
      "4/4 - 4s - loss: 0.6931 - acc: 0.5000 - val_loss: 0.6931 - val_acc: 0.4000\n",
      "Epoch 71/100\n",
      "4/4 - 4s - loss: 0.6931 - acc: 0.5000 - val_loss: 0.6931 - val_acc: 0.5000\n",
      "Epoch 72/100\n",
      "4/4 - 4s - loss: 0.6931 - acc: 0.5000 - val_loss: 0.6931 - val_acc: 0.4500\n",
      "Epoch 73/100\n",
      "4/4 - 4s - loss: 0.6931 - acc: 0.5000 - val_loss: 0.6931 - val_acc: 0.5000\n",
      "Epoch 74/100\n",
      "4/4 - 4s - loss: 0.6931 - acc: 0.5000 - val_loss: 0.6931 - val_acc: 0.6000\n",
      "Epoch 75/100\n",
      "4/4 - 4s - loss: 0.6931 - acc: 0.5000 - val_loss: 0.6931 - val_acc: 0.5000\n",
      "Epoch 76/100\n",
      "4/4 - 4s - loss: 0.6931 - acc: 0.5000 - val_loss: 0.6931 - val_acc: 0.6000\n",
      "Epoch 77/100\n",
      "4/4 - 4s - loss: 0.6931 - acc: 0.5000 - val_loss: 0.6931 - val_acc: 0.5000\n",
      "Epoch 78/100\n",
      "4/4 - 4s - loss: 0.6931 - acc: 0.5000 - val_loss: 0.6931 - val_acc: 0.4000\n",
      "Epoch 79/100\n",
      "4/4 - 4s - loss: 0.6931 - acc: 0.5000 - val_loss: 0.6931 - val_acc: 0.5000\n",
      "Epoch 80/100\n",
      "4/4 - 4s - loss: 0.6931 - acc: 0.5000 - val_loss: 0.6931 - val_acc: 0.6000\n",
      "Epoch 81/100\n",
      "4/4 - 4s - loss: 0.6931 - acc: 0.5000 - val_loss: 0.6931 - val_acc: 0.5000\n",
      "Epoch 82/100\n",
      "4/4 - 4s - loss: 0.6931 - acc: 0.5000 - val_loss: 0.6931 - val_acc: 0.4500\n",
      "Epoch 83/100\n",
      "4/4 - 4s - loss: 0.6931 - acc: 0.5000 - val_loss: 0.6931 - val_acc: 0.5000\n",
      "Epoch 84/100\n",
      "4/4 - 4s - loss: 0.6931 - acc: 0.5000 - val_loss: 0.6931 - val_acc: 0.5500\n",
      "Epoch 85/100\n",
      "4/4 - 4s - loss: 0.6931 - acc: 0.5000 - val_loss: 0.6931 - val_acc: 0.5000\n",
      "Epoch 86/100\n",
      "4/4 - 4s - loss: 0.6931 - acc: 0.5000 - val_loss: 0.6931 - val_acc: 0.6000\n",
      "Epoch 87/100\n",
      "4/4 - 4s - loss: 0.6931 - acc: 0.5000 - val_loss: 0.6931 - val_acc: 0.5000\n",
      "Epoch 88/100\n",
      "4/4 - 4s - loss: 0.6931 - acc: 0.5000 - val_loss: 0.6931 - val_acc: 0.4000\n",
      "Epoch 89/100\n",
      "4/4 - 4s - loss: 0.6931 - acc: 0.5000 - val_loss: 0.6931 - val_acc: 0.5000\n",
      "Epoch 90/100\n",
      "4/4 - 4s - loss: 0.6931 - acc: 0.5000 - val_loss: 0.6931 - val_acc: 0.4500\n",
      "Epoch 91/100\n",
      "4/4 - 4s - loss: 0.6931 - acc: 0.5000 - val_loss: 0.6931 - val_acc: 0.5000\n",
      "Epoch 92/100\n",
      "4/4 - 4s - loss: 0.6931 - acc: 0.5000 - val_loss: 0.6931 - val_acc: 0.6000\n",
      "Epoch 93/100\n",
      "4/4 - 4s - loss: 0.6931 - acc: 0.5000 - val_loss: 0.6931 - val_acc: 0.5000\n",
      "Epoch 94/100\n",
      "4/4 - 4s - loss: 0.6931 - acc: 0.5000 - val_loss: 0.6931 - val_acc: 0.4000\n",
      "Epoch 95/100\n",
      "4/4 - 4s - loss: 0.6931 - acc: 0.5000 - val_loss: 0.6931 - val_acc: 0.5000\n",
      "Epoch 96/100\n",
      "4/4 - 4s - loss: 0.6931 - acc: 0.5000 - val_loss: 0.6931 - val_acc: 0.5000\n",
      "Epoch 97/100\n",
      "4/4 - 4s - loss: 0.6931 - acc: 0.5000 - val_loss: 0.6931 - val_acc: 0.5000\n",
      "Epoch 98/100\n",
      "4/4 - 4s - loss: 0.6931 - acc: 0.5000 - val_loss: 0.6931 - val_acc: 0.5500\n",
      "Epoch 99/100\n",
      "4/4 - 4s - loss: 0.6931 - acc: 0.5000 - val_loss: 0.6931 - val_acc: 0.5000\n",
      "Epoch 100/100\n",
      "4/4 - 4s - loss: 0.6931 - acc: 0.5000 - val_loss: 0.6931 - val_acc: 0.5500\n"
     ]
    }
   ],
   "source": [
    "history = model.fit_generator(\n",
    "      train_generator,\n",
    "      steps_per_epoch= 4,  # 2000 images = batch_size * steps\n",
    "      epochs=100,\n",
    "      validation_data=validation_generator,\n",
    "      validation_steps=2,  # 1000 images = batch_size * steps\n",
    "      verbose=2)"
   ]
  },
  {
   "cell_type": "code",
   "execution_count": 40,
   "metadata": {
    "colab": {
     "base_uri": "https://localhost:8080/",
     "height": 562
    },
    "colab_type": "code",
    "id": "X54gmNwQyHQC",
    "outputId": "431d31ec-8dbd-4564-e170-c49b05c671fa"
   },
   "outputs": [
    {
     "data": {
      "text/plain": [
       "Text(0.5, 1.0, 'Training and validation loss')"
      ]
     },
     "execution_count": 40,
     "metadata": {
      "tags": []
     },
     "output_type": "execute_result"
    },
    {
     "data": {
      "image/png": "[encoded data removed]",
      "text/plain": [
       "<Figure size 432x288 with 1 Axes>"
      ]
     },
     "metadata": {
      "needs_background": "light",
      "tags": []
     },
     "output_type": "display_data"
    },
    {
     "data": {
      "image/png": "[encoded data removed]",
      "text/plain": [
       "<Figure size 432x288 with 1 Axes>"
      ]
     },
     "metadata": {
      "needs_background": "light",
      "tags": []
     },
     "output_type": "display_data"
    }
   ],
   "source": [
    "# Retrieve a list of accuracy results on training and validation data\n",
    "# sets for each training epoch\n",
    "acc = history.history['acc']\n",
    "val_acc = history.history['val_acc']\n",
    "\n",
    "# Retrieve a list of list results on training and validation data\n",
    "# sets for each training epoch\n",
    "loss = history.history['loss']\n",
    "val_loss = history.history['val_loss']\n",
    "\n",
    "# Get number of epochs\n",
    "epochs = range(len(acc))\n",
    "\n",
    "# Plot training and validation accuracy per epoch\n",
    "plt.plot(epochs, acc)\n",
    "plt.plot(epochs, val_acc)\n",
    "plt.title('Training and validation accuracy')\n",
    "\n",
    "plt.figure()\n",
    "\n",
    "# Plot training and validation loss per epoch\n",
    "plt.plot(epochs, loss)\n",
    "plt.plot(epochs, val_loss)\n",
    "plt.title('Training and validation loss')"
   ]
  },
  {
   "cell_type": "code",
   "execution_count": 0,
   "metadata": {
    "colab": {},
    "colab_type": "code",
    "id": "iJ2rMTlD0Gxd"
   },
   "outputs": [],
   "source": []
  }
 ],
 "metadata": {
  "colab": {
   "collapsed_sections": [],
   "name": "cats_dogs.ipynb",
   "provenance": []
  },
  "kernelspec": {
   "display_name": "Python 3",
   "language": "python",
   "name": "python3"
  },
  "language_info": {
   "codemirror_mode": {
    "name": "ipython",
    "version": 3
   },
   "file_extension": ".py",
   "mimetype": "text/x-python",
   "name": "python",
   "nbconvert_exporter": "python",
   "pygments_lexer": "ipython3",
   "version": "3.7.3"
  }
 },
 "nbformat": 4,
 "nbformat_minor": 1
}
